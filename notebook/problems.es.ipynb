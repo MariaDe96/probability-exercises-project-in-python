{
 "cells": [
  {
   "cell_type": "markdown",
   "id": "a41f3622",
   "metadata": {},
   "source": [
    "# Ejercicios de probabilidad"
   ]
  },
  {
   "cell_type": "markdown",
   "id": "a6bdbd89",
   "metadata": {},
   "source": [
    "## Ejercicio 1 \n",
    "\n",
    "Dos dados se lanzan una vez y se observa el total obtenido. Usa una simulación para encontrar la probabilidad estimada de que la puntuación sea mayor a 7 o un número par. Una simulación es una repetición del mismo experimento multiples veces para observar su comportamiento:\n",
    "\n",
    "- Ejecuta el experimento 1000 veces (lanza 2 dados 1000 veces, y suma el número de ambos dados).\n",
    "- Lleva ua cuenta de los números y las veces que la suma fue mayor a 7 o un número par.\n",
    "- Divide el número del paso 2 entre el número de iteraciones(1000)."
   ]
  },
  {
   "cell_type": "code",
   "execution_count": 1,
   "id": "8939d892",
   "metadata": {},
   "outputs": [
    {
     "name": "stdout",
     "output_type": "stream",
     "text": [
      "0.683\n"
     ]
    }
   ],
   "source": [
    "# importar librerias\n",
    "import random\n",
    "Experimento = 1000\n",
    "contador = 0\n",
    "for i in range (Experimento):\n",
    "    dado_1 = random.randint(1, 6) \n",
    "    dado_2 = random.randint(1, 6)\n",
    "    suma_dados = dado_1 + dado_2\n",
    "    \n",
    "    if suma_dados > 7 or suma_dados % 2 ==0:\n",
    "        contador +=1\n",
    "probabilidad= contador/Experimento\n",
    "print(probabilidad)"
   ]
  },
  {
   "cell_type": "markdown",
   "id": "55732bca",
   "metadata": {},
   "source": [
    "## Ejercicio 2\n",
    "\n",
    "Una caja contiene 10 bolas blancas, 20 bolas rojas y 30 bolas verdes. Si tomamos 5 bolas de la caja reemplazándolas (tomando una bola, anotando el color y luego regresandola a la caja). Queremos saber la probabilidad de:\n",
    "\n",
    "1. Tomar 3 blancas y 2 rojas.\n",
    "2. Toas todas del mismo color.\n",
    "\n",
    "Ejecuta el experimento 1000 veces y calcula las probabilidades que mencionadas."
   ]
  },
  {
   "cell_type": "code",
   "execution_count": 2,
   "id": "23244d20",
   "metadata": {},
   "outputs": [
    {
     "name": "stdout",
     "output_type": "stream",
     "text": [
      "0.002 Probablidad de tomar 3 blancas y 2 rojas\n",
      "0.026 Pobrabilidad de tomar todas del mismo color\n",
      "['white', 'white', 'white', 'white', 'white', 'white', 'white', 'white', 'white', 'white', 'red', 'red', 'red', 'red', 'red', 'red', 'red', 'red', 'red', 'red', 'red', 'red', 'red', 'red', 'red', 'red', 'red', 'red', 'red', 'red', 'green', 'green', 'green', 'green', 'green', 'green', 'green', 'green', 'green', 'green', 'green', 'green', 'green', 'green', 'green', 'green', 'green', 'green', 'green', 'green', 'green', 'green', 'green', 'green', 'green', 'green', 'green', 'green', 'green', 'green']\n"
     ]
    }
   ],
   "source": [
    "import random\n",
    "\n",
    "Experimento_total= 1000\n",
    "Experimento_1= 0 # tres blancas dos rojas\n",
    "Experimento_2= 0 # todas del mismo color\n",
    "\n",
    "# Crea la cajas con las bolas\n",
    "for i in range(Experimento_total):\n",
    "    caja = [\"white\"] *10 + [\"red\"] *20 + [\"green\"] *30\n",
    "    selec = [random.choice(caja) for i in range(5)]\n",
    "    white = selec.count(\"white\")\n",
    "    red = selec.count(\"red\")\n",
    "    green = selec.count(\"green\")\n",
    "\n",
    "    if white == 3 and red == 2:\n",
    "       Experimento_1 += 1 \n",
    "    if white == 5 or red == 5 or green == 5:\n",
    "       Experimento_2 += 1\n",
    "\n",
    "probabilidad_expermiento_1 = Experimento_1/Experimento_total\n",
    "probabilidad_expermiento_2= Experimento_2/Experimento_total\n",
    "print(probabilidad_expermiento_1, \"Probablidad de tomar 3 blancas y 2 rojas\")\n",
    "print(probabilidad_expermiento_2, \"Pobrabilidad de tomar todas del mismo color\")\n",
    "\n",
    "print(caja)\n",
    "            \n",
    "# TODO"
   ]
  }
 ],
 "metadata": {
  "kernelspec": {
   "display_name": "Python 3",
   "language": "python",
   "name": "python3"
  },
  "language_info": {
   "codemirror_mode": {
    "name": "ipython",
    "version": 3
   },
   "file_extension": ".py",
   "mimetype": "text/x-python",
   "name": "python",
   "nbconvert_exporter": "python",
   "pygments_lexer": "ipython3",
   "version": "3.11.4"
  }
 },
 "nbformat": 4,
 "nbformat_minor": 5
}
